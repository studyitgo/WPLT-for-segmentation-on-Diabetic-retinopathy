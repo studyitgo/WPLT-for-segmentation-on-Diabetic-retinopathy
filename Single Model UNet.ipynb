{
 "cells": [
  {
   "cell_type": "markdown",
   "id": "144fae6f",
   "metadata": {},
   "source": [
    "# UNet with VGG16"
   ]
  },
  {
   "cell_type": "code",
   "execution_count": null,
   "id": "31c7d5ed",
   "metadata": {},
   "outputs": [],
   "source": [
    "def get_backbone(width = WIDTH, height = HEIGHT):\n",
    "    backbone = keras.applications.VGG16(include_top=False, input_shape=(width, height, 3), weights = \"imagenet\")\n",
    "    output_0, output_1, output_2, output_3, output_4, fin_output = [\n",
    "        backbone.get_layer(layer_name).output\n",
    "        for layer_name in [\"block1_conv2\",\"block2_conv2\", \"block3_conv3\", \"block4_conv3\", \"block5_conv3\", \"block5_pool\"]\n",
    "    ]\n",
    "        \n",
    "    return keras.Model(\n",
    "        inputs=[backbone.inputs],\n",
    "        outputs=[ fin_output, output_4, output_3, output_2, output_1, output_0 ],\n",
    "        )"
   ]
  },
  {
   "cell_type": "code",
   "execution_count": null,
   "id": "258a22c3",
   "metadata": {},
   "outputs": [],
   "source": [
    "def twice_Conv2D(input_image, num_filters, i):\n",
    "    for j in range(2):\n",
    "        output = keras.layers.Conv2D(num_filters, 3, 1, \n",
    "                                    padding = \"same\",\n",
    "                                    kernel_initializer='he_normal',\n",
    "                                    name=f\"block{i+1}_Conv{j+1}\")(input_image)\n",
    "        output = keras.layers.BatchNormalization(name=f\"block{i+1}_BN{j+1}\")(output)\n",
    "        output = keras.layers.ReLU(name = f\"block{i+1}_ReLU{j+1}\")(output)\n",
    "    return output\n",
    "\n",
    "def Unet(num_classes = NUM_CLASSES, width = WIDTH, height = HEIGHT):\n",
    "    input_image = keras.Input(shape=(width, height, 3), name=\"Image\")\n",
    "    output_list = get_backbone()(input_image, training = False)\n",
    "    output = output_list[0]\n",
    "    for i in range(2):\n",
    "        output = keras.layers.Conv2D(512, 3, 1, \n",
    "                                     padding = \"same\",\n",
    "                                     kernel_initializer='he_normal',\n",
    "                                     name=f\"block{0}_Conv{i}\")(output)\n",
    "        output = keras.layers.BatchNormalization(name=f\"block{0}_BN{i}\")(output)\n",
    "        output = keras.layers.ReLU(name=f\"block{0}_ReLU{i}\")(output)\n",
    "    \n",
    "    for i, filters in enumerate([256, 128, 64, 32, 16]):\n",
    "        output = keras.layers.UpSampling2D(2, name=f\"block{i+1}_UpSampling{0}\")(output)\n",
    "        output = keras.layers.Conv2D(output.shape[-1], 2, 1, \n",
    "                                     padding = \"same\",\n",
    "                                     kernel_initializer='he_normal',\n",
    "                                     name=f\"block{i+1}_Conv{0}\")(output)\n",
    "        output = keras.layers.BatchNormalization(name=f\"block{i+1}_BN{0}\")(output)\n",
    "        output = keras.layers.ReLU(name=f\"block{i+1}_ReLU{0}\")(output)\n",
    "        output = keras.layers.concatenate([output, output_list[i+1]], name = f\"block{i+1}_concat\")\n",
    "        output = twice_Conv2D(output, filters, i)\n",
    "                \n",
    "    output = keras.layers.Conv2D(num_classes, 1, 1, \n",
    "                                 padding = \"same\", \n",
    "                                 activation = \"softmax\", \n",
    "                                 kernel_initializer=tf.initializers.RandomNormal(0.0, 0.01),\n",
    "                                 bias_initializer = tf.constant_initializer(-np.log((1 - 0.01) / 0.01)),\n",
    "                                 name = f\"block{5}_Conv_ReLU\")(output)\n",
    "#     print(\"output.shape\",output.shape) #output.shape (None, 1024, 1024, 3)\n",
    "    model = keras.models.Model(inputs = input_image, outputs=output)\n",
    "    return model\n",
    "# Unet(3,1024,1024)"
   ]
  },
  {
   "cell_type": "code",
   "execution_count": null,
   "id": "efc0a003",
   "metadata": {},
   "outputs": [],
   "source": [
    "# Check Test set test\n",
    "input_image = tf.keras.Input(shape=(1024, 1024, 3), name=\"Image\")\n",
    "dataset = Dataset_Generator()\n",
    "model = Unet()\n",
    "test_dataset = tf.data.Dataset.from_generator(\n",
    "                dataset.test_generator,\n",
    "                (tf.float32, tf.int32),\n",
    "                (tf.TensorShape([1, HEIGHT, WIDTH, 3]), tf.TensorShape([1,  HEIGHT, WIDTH])),\n",
    "                )\n",
    "predictions = model(input_image, training = True)\n",
    "# print(predictions.shape)# (None, 1024, 1024, 3)\n",
    "\n",
    "inference_model = tf.keras.Model(inputs=input_image, outputs=predictions)# cc\n",
    "\n",
    "for i,test in enumerate(test_dataset):\n",
    "    img, mask = test\n",
    "    prediction = inference_model.predict(img)\n",
    "                \n",
    "    img = img[0].numpy()\n",
    "    mask = mask[0].numpy()\n",
    "    \n",
    "    prediction = prediction[0]\n",
    "    prediction = tf.math.argmax(prediction, -1)\n",
    "    prediction = prediction.numpy()\n",
    "\n",
    "    fig = plt.figure(10, figsize = (20,20))\n",
    "    ax1 = fig.add_subplot(1, 3, 1)\n",
    "    img = cv2.cvtColor(img, cv2.COLOR_BGR2RGB)\n",
    "    ax1.imshow(img)\n",
    "    ax1.set_title('Image')\n",
    "    ax1.axis(\"off\")\n",
    "\n",
    "    ax2 = fig.add_subplot(1, 3, 2)\n",
    "    ax2.imshow(mask)\n",
    "    ax2.set_title('Ground Truth Mask')\n",
    "    ax2.axis(\"off\")\n",
    "\n",
    "    ax3 = fig.add_subplot(1, 3, 3)\n",
    "    ax3.imshow(prediction)\n",
    "    ax3.set_title('Prediction')\n",
    "    ax3.axis(\"off\")\n",
    "    plt.show()"
   ]
  },
  {
   "cell_type": "code",
   "execution_count": null,
   "id": "d27d846b",
   "metadata": {},
   "outputs": [],
   "source": [
    "model = Unet() "
   ]
  }
 ],
 "metadata": {
  "kernelspec": {
   "display_name": "Python 3",
   "language": "python",
   "name": "python3"
  },
  "language_info": {
   "codemirror_mode": {
    "name": "ipython",
    "version": 3
   },
   "file_extension": ".py",
   "mimetype": "text/x-python",
   "name": "python",
   "nbconvert_exporter": "python",
   "pygments_lexer": "ipython3",
   "version": "3.7.11"
  }
 },
 "nbformat": 4,
 "nbformat_minor": 5
}
